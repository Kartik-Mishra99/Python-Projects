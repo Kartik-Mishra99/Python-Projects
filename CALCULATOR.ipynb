{
 "cells": [
  {
   "cell_type": "code",
   "execution_count": 3,
   "metadata": {},
   "outputs": [],
   "source": [
    "import tkinter as tk"
   ]
  },
  {
   "cell_type": "code",
   "execution_count": 13,
   "metadata": {},
   "outputs": [],
   "source": [
    "window = tk.Tk()\n",
    "\n",
    "def handleclick():\n",
    "    s = ent.get()\n",
    "    strVar.set(s)\n",
    "    \n",
    "strVar = tk.StringVar()                                                  #its a string whose value we can set\n",
    "strVar.set('coding')\n",
    "tk.Label(window, textvariable = strVar).pack()                                 #.pack packs the package\n",
    "tk.Button(window, text = 'click here',command=handleclick).pack()        #if we use handleclick() then none will be returned\n",
    "ent = tk.Entry(window)\n",
    "ent.pack() \n",
    "window.mainloop()"
   ]
  },
  {
   "cell_type": "code",
   "execution_count": 4,
   "metadata": {},
   "outputs": [
    {
     "name": "stdout",
     "output_type": "stream",
     "text": [
      "hello\n"
     ]
    }
   ],
   "source": [
    "f = lambda :print(\"hello\")\n",
    "f()"
   ]
  },
  {
   "cell_type": "code",
   "execution_count": 6,
   "metadata": {},
   "outputs": [],
   "source": [
    "import tkinter as tk\n"
   ]
  },
  {
   "cell_type": "code",
   "execution_count": 13,
   "metadata": {},
   "outputs": [],
   "source": [
    "window  = tk.Tk()\n",
    "def handleclick(btnVal):\n",
    "    val = 0\n",
    "    if btnVal=='=':\n",
    "        val = eval(exp.get())\n",
    "    elif btnVal =='c':\n",
    "        val=''\n",
    "    else:\n",
    "        val = exp.get() + btnVal\n",
    "        \n",
    "    exp.set(val)   \n",
    "    \n",
    "    \n",
    "exp = tk.StringVar()\n",
    "\n",
    "tk.Label(window,textvariable=exp).grid(row = 0 ,column = 0 , columnspan=3)\n",
    "tk.Button(window , text = 'c',width=5,height=2,command=lambda:handleclick('c')).grid(row=0 , column=3)   #clear button\n",
    "\n",
    "tk.Button(window , text = '7',width=5,height=2,command=lambda:handleclick('7')).grid(row=1 , column=0) \n",
    "tk.Button(window , text = '8',width=5,height=2,command=lambda:handleclick('8')).grid(row=1 , column=1)        \n",
    "tk.Button(window , text = '9',width=5,height=2,command=lambda:handleclick('9')).grid(row=1 , column=2)        \n",
    "tk.Button(window , text = '/',width=5,height=2,command=lambda:handleclick('/')).grid(row=1 , column=3)        \n",
    "\n",
    "tk.Button(window , text = '4',width=5,height=2,command=lambda:handleclick('4')).grid(row=2 , column=0) \n",
    "tk.Button(window , text = '5',width=5,height=2,command=lambda:handleclick('5')).grid(row=2 , column=1)        \n",
    "tk.Button(window , text = '6',width=5,height=2,command=lambda:handleclick('6')).grid(row=2 , column=2)        \n",
    "tk.Button(window , text = '*',width=5,height=2,command=lambda:handleclick('*')).grid(row=2 , column=3)  \n",
    "\n",
    "tk.Button(window , text = '1',width=5,height=2,command=lambda:handleclick('1')).grid(row=3 , column=0) \n",
    "tk.Button(window , text = '2',width=5,height=2,command=lambda:handleclick('2')).grid(row=3 , column=1)        \n",
    "tk.Button(window , text = '3',width=5,height=2,command=lambda:handleclick('3')).grid(row=3 , column=2)        \n",
    "tk.Button(window , text = '-',width=5,height=2,command=lambda:handleclick('-')).grid(row=3 , column=3)        \n",
    "      \n",
    "tk.Button(window , text = '.',width=5,height=2,command=lambda:handleclick('.')).grid(row=4 , column=0) \n",
    "tk.Button(window , text = '0',width=5,height=2,command=lambda:handleclick('0')).grid(row=4 , column=1)        \n",
    "tk.Button(window , text = '=',width=5,height=2,command=lambda:handleclick('=')).grid(row=4 , column=2)        \n",
    "tk.Button(window , text = '+',width=5,height=2,command=lambda:handleclick('+')).grid(row=4 , column=3)        \n",
    "            \n",
    "window.mainloop()"
   ]
  },
  {
   "cell_type": "code",
   "execution_count": null,
   "metadata": {},
   "outputs": [],
   "source": []
  }
 ],
 "metadata": {
  "kernelspec": {
   "display_name": "Python 3",
   "language": "python",
   "name": "python3"
  },
  "language_info": {
   "codemirror_mode": {
    "name": "ipython",
    "version": 3
   },
   "file_extension": ".py",
   "mimetype": "text/x-python",
   "name": "python",
   "nbconvert_exporter": "python",
   "pygments_lexer": "ipython3",
   "version": "3.7.3"
  }
 },
 "nbformat": 4,
 "nbformat_minor": 2
}
